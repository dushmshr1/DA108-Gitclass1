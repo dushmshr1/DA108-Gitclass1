{
  "nbformat": 4,
  "nbformat_minor": 0,
  "metadata": {
    "colab": {
      "provenance": [],
      "authorship_tag": "ABX9TyMjhmhGzG898TIk605IE2UW",
      "include_colab_link": true
    },
    "kernelspec": {
      "name": "python3",
      "display_name": "Python 3"
    },
    "language_info": {
      "name": "python"
    }
  },
  "cells": [
    {
      "cell_type": "markdown",
      "metadata": {
        "id": "view-in-github",
        "colab_type": "text"
      },
      "source": [
        "<a href=\"https://colab.research.google.com/github/dushmshr1/DA108-Gitclass1/blob/main/Practice_lab06.ipynb\" target=\"_parent\"><img src=\"https://colab.research.google.com/assets/colab-badge.svg\" alt=\"Open In Colab\"/></a>"
      ]
    },
    {
      "cell_type": "code",
      "execution_count": 2,
      "metadata": {
        "colab": {
          "base_uri": "https://localhost:8080/"
        },
        "id": "rGDnNnBxHsBP",
        "outputId": "68ceb589-e03e-4e43-ad4d-544fdae29c29"
      },
      "outputs": [
        {
          "output_type": "stream",
          "name": "stdout",
          "text": [
            "Name : Bob,Age : 32\n"
          ]
        }
      ],
      "source": [
        "name = \"Bob\"\n",
        "age = 32\n",
        "print(f\"Name : {name},Age : {age}\")"
      ]
    },
    {
      "cell_type": "code",
      "source": [
        "print(\"a\", \"b\", \"c\", sep =\"-\", end =\" \")"
      ],
      "metadata": {
        "colab": {
          "base_uri": "https://localhost:8080/"
        },
        "id": "niWUfo82IJmF",
        "outputId": "bc3bf9eb-72d3-4b0a-c5ce-9c0645bca220"
      },
      "execution_count": 3,
      "outputs": [
        {
          "output_type": "stream",
          "name": "stdout",
          "text": [
            "a-b-c "
          ]
        }
      ]
    },
    {
      "cell_type": "code",
      "source": [
        "a = [10, 20, 2 , 22]\n",
        "print(len(a))"
      ],
      "metadata": {
        "colab": {
          "base_uri": "https://localhost:8080/"
        },
        "id": "LEETW8WWITmX",
        "outputId": "80961b20-18f9-4710-d0f6-93e314a4cc90"
      },
      "execution_count": 5,
      "outputs": [
        {
          "output_type": "stream",
          "name": "stdout",
          "text": [
            "4\n"
          ]
        }
      ]
    },
    {
      "cell_type": "code",
      "source": [
        "for i in range(10):\n",
        "  print(i)"
      ],
      "metadata": {
        "colab": {
          "base_uri": "https://localhost:8080/"
        },
        "id": "HCPP7kIgJicB",
        "outputId": "0696cabc-4ded-4313-a374-c4d4f0dc9e40"
      },
      "execution_count": 6,
      "outputs": [
        {
          "output_type": "stream",
          "name": "stdout",
          "text": [
            "0\n",
            "1\n",
            "2\n",
            "3\n",
            "4\n",
            "5\n",
            "6\n",
            "7\n",
            "8\n",
            "9\n"
          ]
        }
      ]
    },
    {
      "cell_type": "code",
      "source": [
        "a = [10, 20, 2 , 22]\n",
        "sorted_list = sorted(a)\n",
        "print(sorted_list)"
      ],
      "metadata": {
        "colab": {
          "base_uri": "https://localhost:8080/"
        },
        "id": "sQodfPAIKWc6",
        "outputId": "90c5cea1-2607-42af-eab3-44dfd74c28a1"
      },
      "execution_count": 7,
      "outputs": [
        {
          "output_type": "stream",
          "name": "stdout",
          "text": [
            "[2, 10, 20, 22]\n"
          ]
        }
      ]
    },
    {
      "cell_type": "code",
      "source": [
        "print(max(sorted_list))\n",
        "print(min(sorted_list))"
      ],
      "metadata": {
        "colab": {
          "base_uri": "https://localhost:8080/"
        },
        "id": "CclKr40LKixw",
        "outputId": "a7635dfe-dc6b-45b8-a89b-5562086f23ad"
      },
      "execution_count": 8,
      "outputs": [
        {
          "output_type": "stream",
          "name": "stdout",
          "text": [
            "22\n",
            "2\n"
          ]
        }
      ]
    },
    {
      "cell_type": "code",
      "source": [
        "x = 5\n",
        "y = float(x)\n",
        "print(y)"
      ],
      "metadata": {
        "colab": {
          "base_uri": "https://localhost:8080/"
        },
        "id": "c9_gCiu2K6pz",
        "outputId": "7045c432-02e9-44e6-a6f3-3b5552de618c"
      },
      "execution_count": 9,
      "outputs": [
        {
          "output_type": "stream",
          "name": "stdout",
          "text": [
            "5.0\n"
          ]
        }
      ]
    },
    {
      "cell_type": "code",
      "source": [
        "def greet (name, age):\n",
        "  print(\"Hello world\")\n",
        "  print(f\"Name :{name} , Age : {age}\")"
      ],
      "metadata": {
        "id": "nuzM9VwZLMWD"
      },
      "execution_count": 15,
      "outputs": []
    },
    {
      "cell_type": "code",
      "source": [
        "greet(\"Bob\",32)"
      ],
      "metadata": {
        "colab": {
          "base_uri": "https://localhost:8080/"
        },
        "id": "KkS5PTIhO3wP",
        "outputId": "17554191-ffef-448e-ec71-ead070187cb1"
      },
      "execution_count": 16,
      "outputs": [
        {
          "output_type": "stream",
          "name": "stdout",
          "text": [
            "Hello world\n",
            "Name :Bob , Age : 32\n"
          ]
        }
      ]
    },
    {
      "cell_type": "code",
      "source": [
        "square = lambda x:x**2\n",
        "print(square(3))"
      ],
      "metadata": {
        "colab": {
          "base_uri": "https://localhost:8080/"
        },
        "id": "Vs_ACArOPxZD",
        "outputId": "8bfdb8b9-218f-43ba-aeba-24e37b0e58c2"
      },
      "execution_count": 17,
      "outputs": [
        {
          "output_type": "stream",
          "name": "stdout",
          "text": [
            "9\n"
          ]
        }
      ]
    },
    {
      "cell_type": "code",
      "source": [
        "def addnums(x,y):\n",
        "  \"\"\" Add two numbers together.\n",
        "  Arguments :\n",
        "  x - First number, int or float\n",
        "  y - Second number, int or float\n",
        "\n",
        "  Returns:\n",
        "   int or float : The sum of x & y\n",
        "  \"\"\"\n",
        "  result = x + y\n",
        "  return result"
      ],
      "metadata": {
        "id": "G352L0VSO6io"
      },
      "execution_count": 18,
      "outputs": []
    },
    {
      "cell_type": "code",
      "source": [
        "sum = addnums(2,3)\n",
        "print(sum)"
      ],
      "metadata": {
        "colab": {
          "base_uri": "https://localhost:8080/"
        },
        "id": "TGTHE-WuQQ3J",
        "outputId": "f505a0ab-d041-459b-b19f-75559fde29ce"
      },
      "execution_count": 19,
      "outputs": [
        {
          "output_type": "stream",
          "name": "stdout",
          "text": [
            "5\n"
          ]
        }
      ]
    },
    {
      "cell_type": "code",
      "source": [
        "print(type(addnums))"
      ],
      "metadata": {
        "colab": {
          "base_uri": "https://localhost:8080/"
        },
        "id": "8ofzPM70QVLg",
        "outputId": "c68630a6-7b19-49a4-f037-1cd9cf261d07"
      },
      "execution_count": 20,
      "outputs": [
        {
          "output_type": "stream",
          "name": "stdout",
          "text": [
            "<class 'function'>\n"
          ]
        }
      ]
    },
    {
      "cell_type": "code",
      "source": [
        "import os\n",
        "os.getcwd()"
      ],
      "metadata": {
        "colab": {
          "base_uri": "https://localhost:8080/",
          "height": 35
        },
        "id": "ziuWJC8qQkfJ",
        "outputId": "90235829-28ff-40f0-b41d-dda877be601d"
      },
      "execution_count": 21,
      "outputs": [
        {
          "output_type": "execute_result",
          "data": {
            "text/plain": [
              "'/content'"
            ],
            "application/vnd.google.colaboratory.intrinsic+json": {
              "type": "string"
            }
          },
          "metadata": {},
          "execution_count": 21
        }
      ]
    },
    {
      "cell_type": "code",
      "source": [
        "import datetime\n",
        "datetime.datetime.now()"
      ],
      "metadata": {
        "colab": {
          "base_uri": "https://localhost:8080/"
        },
        "id": "sUEdTbYoQ93e",
        "outputId": "227e3e08-3b6b-4a5a-e696-c490054bedf6"
      },
      "execution_count": 22,
      "outputs": [
        {
          "output_type": "execute_result",
          "data": {
            "text/plain": [
              "datetime.datetime(2025, 2, 15, 6, 20, 58, 870917)"
            ]
          },
          "metadata": {},
          "execution_count": 22
        }
      ]
    },
    {
      "cell_type": "code",
      "source": [
        "#Global variable\n",
        "greeting = \"Hello\"\n",
        "\n",
        "def greeto(name):\n",
        "  #Local variable\n",
        "  message = f\"{greeting} , {name}!\"\n",
        "  print(message)\n"
      ],
      "metadata": {
        "id": "p08TFCi4RHVT"
      },
      "execution_count": 25,
      "outputs": []
    },
    {
      "cell_type": "code",
      "source": [
        "greeto(\"Bob\")"
      ],
      "metadata": {
        "colab": {
          "base_uri": "https://localhost:8080/"
        },
        "id": "G7pefn6OSibk",
        "outputId": "fc36ff8a-80d4-4798-9400-9ae80a7e1aa0"
      },
      "execution_count": 26,
      "outputs": [
        {
          "output_type": "stream",
          "name": "stdout",
          "text": [
            "Hello , Bob!\n"
          ]
        }
      ]
    },
    {
      "cell_type": "code",
      "source": [],
      "metadata": {
        "id": "HyWGojY4SkxA"
      },
      "execution_count": null,
      "outputs": []
    }
  ]
}